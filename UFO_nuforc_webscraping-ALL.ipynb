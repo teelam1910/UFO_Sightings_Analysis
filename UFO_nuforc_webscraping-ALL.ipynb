{
 "cells": [
  {
   "cell_type": "markdown",
   "id": "6e200081",
   "metadata": {},
   "source": [
    "# UFO Sightings Analysis\n",
    "# Webscraping Using All Dataset\n",
    "## Team Martianas (Angelica, Taryn, Tiffany)\n",
    "\n"
   ]
  },
  {
   "cell_type": "code",
   "execution_count": 1,
   "id": "d201cecf",
   "metadata": {},
   "outputs": [],
   "source": [
    "import pandas as pd\n",
    "import numpy as np\n",
    "import requests as rs\n",
    "import matplotlib.pyplot as plt\n",
    "import seaborn as sns\n",
    "from selenium import webdriver\n",
    "from selenium.webdriver.common.by import By\n",
    "from bs4 import BeautifulSoup# as soup\n",
    "from selenium.webdriver.support.ui import WebDriverWait\n",
    "from selenium.webdriver.support import expected_conditions as EC"
   ]
  },
  {
   "cell_type": "code",
   "execution_count": 2,
   "id": "5643d065",
   "metadata": {},
   "outputs": [
    {
     "ename": "KeyboardInterrupt",
     "evalue": "",
     "output_type": "error",
     "traceback": [
      "\u001b[1;31m---------------------------------------------------------------------------\u001b[0m",
      "\u001b[1;31mKeyboardInterrupt\u001b[0m                         Traceback (most recent call last)",
      "Cell \u001b[1;32mIn[2], line 32\u001b[0m\n\u001b[0;32m     27\u001b[0m     next_button \u001b[38;5;241m=\u001b[39m WebDriverWait(driver, \u001b[38;5;241m10\u001b[39m)\u001b[38;5;241m.\u001b[39muntil(\n\u001b[0;32m     28\u001b[0m         EC\u001b[38;5;241m.\u001b[39mpresence_of_element_located((By\u001b[38;5;241m.\u001b[39mID, \u001b[38;5;124m\"\u001b[39m\u001b[38;5;124mtable_1_next\u001b[39m\u001b[38;5;124m\"\u001b[39m))\n\u001b[0;32m     29\u001b[0m     )\n\u001b[0;32m     31\u001b[0m \u001b[38;5;66;03m#     # Check if the next button is disabled\u001b[39;00m\n\u001b[1;32m---> 32\u001b[0m     \u001b[38;5;28;01mif\u001b[39;00m \u001b[38;5;124m'\u001b[39m\u001b[38;5;124mdisabled\u001b[39m\u001b[38;5;124m'\u001b[39m \u001b[38;5;129;01min\u001b[39;00m \u001b[43mnext_button\u001b[49m\u001b[38;5;241;43m.\u001b[39;49m\u001b[43mget_attribute\u001b[49m\u001b[43m(\u001b[49m\u001b[38;5;124;43m'\u001b[39;49m\u001b[38;5;124;43mclass\u001b[39;49m\u001b[38;5;124;43m'\u001b[39;49m\u001b[43m)\u001b[49m:\n\u001b[0;32m     33\u001b[0m         \u001b[38;5;28;01mbreak\u001b[39;00m  \u001b[38;5;66;03m# Break loop if next button is disabled\u001b[39;00m\n\u001b[0;32m     35\u001b[0m     \u001b[38;5;66;03m# Click the next button\u001b[39;00m\n",
      "File \u001b[1;32m~\\anaconda3\\lib\\site-packages\\selenium\\webdriver\\remote\\webelement.py:155\u001b[0m, in \u001b[0;36mWebElement.get_attribute\u001b[1;34m(self, name)\u001b[0m\n\u001b[0;32m    128\u001b[0m \u001b[38;5;28;01mdef\u001b[39;00m \u001b[38;5;21mget_attribute\u001b[39m(\u001b[38;5;28mself\u001b[39m, name) \u001b[38;5;241m-\u001b[39m\u001b[38;5;241m>\u001b[39m \u001b[38;5;28mstr\u001b[39m:\n\u001b[0;32m    129\u001b[0m     \u001b[38;5;124;03m\"\"\"Gets the given attribute or property of the element.\u001b[39;00m\n\u001b[0;32m    130\u001b[0m \n\u001b[0;32m    131\u001b[0m \u001b[38;5;124;03m    This method will first try to return the value of a property with the\u001b[39;00m\n\u001b[1;32m   (...)\u001b[0m\n\u001b[0;32m    152\u001b[0m \n\u001b[0;32m    153\u001b[0m \u001b[38;5;124;03m    \"\"\"\u001b[39;00m\n\u001b[1;32m--> 155\u001b[0m     attribute_value \u001b[38;5;241m=\u001b[39m \u001b[38;5;28;43mself\u001b[39;49m\u001b[38;5;241;43m.\u001b[39;49m\u001b[43mparent\u001b[49m\u001b[38;5;241;43m.\u001b[39;49m\u001b[43mexecute_script\u001b[49m\u001b[43m(\u001b[49m\n\u001b[0;32m    156\u001b[0m \u001b[43m        \u001b[49m\u001b[38;5;124;43m\"\u001b[39;49m\u001b[38;5;124;43mreturn (\u001b[39;49m\u001b[38;5;132;43;01m%s\u001b[39;49;00m\u001b[38;5;124;43m).apply(null, arguments);\u001b[39;49m\u001b[38;5;124;43m\"\u001b[39;49m\u001b[43m \u001b[49m\u001b[38;5;241;43m%\u001b[39;49m\u001b[43m \u001b[49m\u001b[43mgetAttribute_js\u001b[49m\u001b[43m,\u001b[49m\n\u001b[0;32m    157\u001b[0m \u001b[43m        \u001b[49m\u001b[38;5;28;43mself\u001b[39;49m\u001b[43m,\u001b[49m\u001b[43m \u001b[49m\u001b[43mname\u001b[49m\u001b[43m)\u001b[49m\n\u001b[0;32m    158\u001b[0m     \u001b[38;5;28;01mreturn\u001b[39;00m attribute_value\n",
      "File \u001b[1;32m~\\anaconda3\\lib\\site-packages\\selenium\\webdriver\\remote\\webdriver.py:884\u001b[0m, in \u001b[0;36mWebDriver.execute_script\u001b[1;34m(self, script, *args)\u001b[0m\n\u001b[0;32m    881\u001b[0m converted_args \u001b[38;5;241m=\u001b[39m \u001b[38;5;28mlist\u001b[39m(args)\n\u001b[0;32m    882\u001b[0m command \u001b[38;5;241m=\u001b[39m Command\u001b[38;5;241m.\u001b[39mW3C_EXECUTE_SCRIPT\n\u001b[1;32m--> 884\u001b[0m \u001b[38;5;28;01mreturn\u001b[39;00m \u001b[38;5;28;43mself\u001b[39;49m\u001b[38;5;241;43m.\u001b[39;49m\u001b[43mexecute\u001b[49m\u001b[43m(\u001b[49m\u001b[43mcommand\u001b[49m\u001b[43m,\u001b[49m\u001b[43m \u001b[49m\u001b[43m{\u001b[49m\n\u001b[0;32m    885\u001b[0m \u001b[43m    \u001b[49m\u001b[38;5;124;43m'\u001b[39;49m\u001b[38;5;124;43mscript\u001b[39;49m\u001b[38;5;124;43m'\u001b[39;49m\u001b[43m:\u001b[49m\u001b[43m \u001b[49m\u001b[43mscript\u001b[49m\u001b[43m,\u001b[49m\n\u001b[0;32m    886\u001b[0m \u001b[43m    \u001b[49m\u001b[38;5;124;43m'\u001b[39;49m\u001b[38;5;124;43margs\u001b[39;49m\u001b[38;5;124;43m'\u001b[39;49m\u001b[43m:\u001b[49m\u001b[43m \u001b[49m\u001b[43mconverted_args\u001b[49m\u001b[43m}\u001b[49m\u001b[43m)\u001b[49m[\u001b[38;5;124m'\u001b[39m\u001b[38;5;124mvalue\u001b[39m\u001b[38;5;124m'\u001b[39m]\n",
      "File \u001b[1;32m~\\anaconda3\\lib\\site-packages\\selenium\\webdriver\\remote\\webdriver.py:428\u001b[0m, in \u001b[0;36mWebDriver.execute\u001b[1;34m(self, driver_command, params)\u001b[0m\n\u001b[0;32m    425\u001b[0m         params[\u001b[38;5;124m'\u001b[39m\u001b[38;5;124msessionId\u001b[39m\u001b[38;5;124m'\u001b[39m] \u001b[38;5;241m=\u001b[39m \u001b[38;5;28mself\u001b[39m\u001b[38;5;241m.\u001b[39msession_id\n\u001b[0;32m    427\u001b[0m params \u001b[38;5;241m=\u001b[39m \u001b[38;5;28mself\u001b[39m\u001b[38;5;241m.\u001b[39m_wrap_value(params)\n\u001b[1;32m--> 428\u001b[0m response \u001b[38;5;241m=\u001b[39m \u001b[38;5;28;43mself\u001b[39;49m\u001b[38;5;241;43m.\u001b[39;49m\u001b[43mcommand_executor\u001b[49m\u001b[38;5;241;43m.\u001b[39;49m\u001b[43mexecute\u001b[49m\u001b[43m(\u001b[49m\u001b[43mdriver_command\u001b[49m\u001b[43m,\u001b[49m\u001b[43m \u001b[49m\u001b[43mparams\u001b[49m\u001b[43m)\u001b[49m\n\u001b[0;32m    429\u001b[0m \u001b[38;5;28;01mif\u001b[39;00m response:\n\u001b[0;32m    430\u001b[0m     \u001b[38;5;28mself\u001b[39m\u001b[38;5;241m.\u001b[39merror_handler\u001b[38;5;241m.\u001b[39mcheck_response(response)\n",
      "File \u001b[1;32m~\\anaconda3\\lib\\site-packages\\selenium\\webdriver\\remote\\remote_connection.py:347\u001b[0m, in \u001b[0;36mRemoteConnection.execute\u001b[1;34m(self, command, params)\u001b[0m\n\u001b[0;32m    345\u001b[0m data \u001b[38;5;241m=\u001b[39m utils\u001b[38;5;241m.\u001b[39mdump_json(params)\n\u001b[0;32m    346\u001b[0m url \u001b[38;5;241m=\u001b[39m \u001b[38;5;124mf\u001b[39m\u001b[38;5;124m\"\u001b[39m\u001b[38;5;132;01m{\u001b[39;00m\u001b[38;5;28mself\u001b[39m\u001b[38;5;241m.\u001b[39m_url\u001b[38;5;132;01m}\u001b[39;00m\u001b[38;5;132;01m{\u001b[39;00mpath\u001b[38;5;132;01m}\u001b[39;00m\u001b[38;5;124m\"\u001b[39m\n\u001b[1;32m--> 347\u001b[0m \u001b[38;5;28;01mreturn\u001b[39;00m \u001b[38;5;28;43mself\u001b[39;49m\u001b[38;5;241;43m.\u001b[39;49m\u001b[43m_request\u001b[49m\u001b[43m(\u001b[49m\u001b[43mcommand_info\u001b[49m\u001b[43m[\u001b[49m\u001b[38;5;241;43m0\u001b[39;49m\u001b[43m]\u001b[49m\u001b[43m,\u001b[49m\u001b[43m \u001b[49m\u001b[43murl\u001b[49m\u001b[43m,\u001b[49m\u001b[43m \u001b[49m\u001b[43mbody\u001b[49m\u001b[38;5;241;43m=\u001b[39;49m\u001b[43mdata\u001b[49m\u001b[43m)\u001b[49m\n",
      "File \u001b[1;32m~\\anaconda3\\lib\\site-packages\\selenium\\webdriver\\remote\\remote_connection.py:369\u001b[0m, in \u001b[0;36mRemoteConnection._request\u001b[1;34m(self, method, url, body)\u001b[0m\n\u001b[0;32m    366\u001b[0m     body \u001b[38;5;241m=\u001b[39m \u001b[38;5;28;01mNone\u001b[39;00m\n\u001b[0;32m    368\u001b[0m \u001b[38;5;28;01mif\u001b[39;00m \u001b[38;5;28mself\u001b[39m\u001b[38;5;241m.\u001b[39mkeep_alive:\n\u001b[1;32m--> 369\u001b[0m     response \u001b[38;5;241m=\u001b[39m \u001b[38;5;28;43mself\u001b[39;49m\u001b[38;5;241;43m.\u001b[39;49m\u001b[43m_conn\u001b[49m\u001b[38;5;241;43m.\u001b[39;49m\u001b[43mrequest\u001b[49m\u001b[43m(\u001b[49m\u001b[43mmethod\u001b[49m\u001b[43m,\u001b[49m\u001b[43m \u001b[49m\u001b[43murl\u001b[49m\u001b[43m,\u001b[49m\u001b[43m \u001b[49m\u001b[43mbody\u001b[49m\u001b[38;5;241;43m=\u001b[39;49m\u001b[43mbody\u001b[49m\u001b[43m,\u001b[49m\u001b[43m \u001b[49m\u001b[43mheaders\u001b[49m\u001b[38;5;241;43m=\u001b[39;49m\u001b[43mheaders\u001b[49m\u001b[43m)\u001b[49m\n\u001b[0;32m    370\u001b[0m     statuscode \u001b[38;5;241m=\u001b[39m response\u001b[38;5;241m.\u001b[39mstatus\n\u001b[0;32m    371\u001b[0m \u001b[38;5;28;01melse\u001b[39;00m:\n",
      "File \u001b[1;32m~\\anaconda3\\lib\\site-packages\\urllib3\\request.py:78\u001b[0m, in \u001b[0;36mRequestMethods.request\u001b[1;34m(self, method, url, fields, headers, **urlopen_kw)\u001b[0m\n\u001b[0;32m     74\u001b[0m     \u001b[38;5;28;01mreturn\u001b[39;00m \u001b[38;5;28mself\u001b[39m\u001b[38;5;241m.\u001b[39mrequest_encode_url(\n\u001b[0;32m     75\u001b[0m         method, url, fields\u001b[38;5;241m=\u001b[39mfields, headers\u001b[38;5;241m=\u001b[39mheaders, \u001b[38;5;241m*\u001b[39m\u001b[38;5;241m*\u001b[39murlopen_kw\n\u001b[0;32m     76\u001b[0m     )\n\u001b[0;32m     77\u001b[0m \u001b[38;5;28;01melse\u001b[39;00m:\n\u001b[1;32m---> 78\u001b[0m     \u001b[38;5;28;01mreturn\u001b[39;00m \u001b[38;5;28mself\u001b[39m\u001b[38;5;241m.\u001b[39mrequest_encode_body(\n\u001b[0;32m     79\u001b[0m         method, url, fields\u001b[38;5;241m=\u001b[39mfields, headers\u001b[38;5;241m=\u001b[39mheaders, \u001b[38;5;241m*\u001b[39m\u001b[38;5;241m*\u001b[39murlopen_kw\n\u001b[0;32m     80\u001b[0m     )\n",
      "File \u001b[1;32m~\\anaconda3\\lib\\site-packages\\urllib3\\request.py:170\u001b[0m, in \u001b[0;36mRequestMethods.request_encode_body\u001b[1;34m(self, method, url, fields, headers, encode_multipart, multipart_boundary, **urlopen_kw)\u001b[0m\n\u001b[0;32m    167\u001b[0m extra_kw[\u001b[38;5;124m\"\u001b[39m\u001b[38;5;124mheaders\u001b[39m\u001b[38;5;124m\"\u001b[39m]\u001b[38;5;241m.\u001b[39mupdate(headers)\n\u001b[0;32m    168\u001b[0m extra_kw\u001b[38;5;241m.\u001b[39mupdate(urlopen_kw)\n\u001b[1;32m--> 170\u001b[0m \u001b[38;5;28;01mreturn\u001b[39;00m \u001b[38;5;28mself\u001b[39m\u001b[38;5;241m.\u001b[39murlopen(method, url, \u001b[38;5;241m*\u001b[39m\u001b[38;5;241m*\u001b[39mextra_kw)\n",
      "File \u001b[1;32m~\\anaconda3\\lib\\site-packages\\urllib3\\poolmanager.py:376\u001b[0m, in \u001b[0;36mPoolManager.urlopen\u001b[1;34m(self, method, url, redirect, **kw)\u001b[0m\n\u001b[0;32m    374\u001b[0m     response \u001b[38;5;241m=\u001b[39m conn\u001b[38;5;241m.\u001b[39murlopen(method, url, \u001b[38;5;241m*\u001b[39m\u001b[38;5;241m*\u001b[39mkw)\n\u001b[0;32m    375\u001b[0m \u001b[38;5;28;01melse\u001b[39;00m:\n\u001b[1;32m--> 376\u001b[0m     response \u001b[38;5;241m=\u001b[39m conn\u001b[38;5;241m.\u001b[39murlopen(method, u\u001b[38;5;241m.\u001b[39mrequest_uri, \u001b[38;5;241m*\u001b[39m\u001b[38;5;241m*\u001b[39mkw)\n\u001b[0;32m    378\u001b[0m redirect_location \u001b[38;5;241m=\u001b[39m redirect \u001b[38;5;129;01mand\u001b[39;00m response\u001b[38;5;241m.\u001b[39mget_redirect_location()\n\u001b[0;32m    379\u001b[0m \u001b[38;5;28;01mif\u001b[39;00m \u001b[38;5;129;01mnot\u001b[39;00m redirect_location:\n",
      "File \u001b[1;32m~\\anaconda3\\lib\\site-packages\\urllib3\\connectionpool.py:703\u001b[0m, in \u001b[0;36mHTTPConnectionPool.urlopen\u001b[1;34m(self, method, url, body, headers, retries, redirect, assert_same_host, timeout, pool_timeout, release_conn, chunked, body_pos, **response_kw)\u001b[0m\n\u001b[0;32m    700\u001b[0m     \u001b[38;5;28mself\u001b[39m\u001b[38;5;241m.\u001b[39m_prepare_proxy(conn)\n\u001b[0;32m    702\u001b[0m \u001b[38;5;66;03m# Make the request on the httplib connection object.\u001b[39;00m\n\u001b[1;32m--> 703\u001b[0m httplib_response \u001b[38;5;241m=\u001b[39m \u001b[38;5;28;43mself\u001b[39;49m\u001b[38;5;241;43m.\u001b[39;49m\u001b[43m_make_request\u001b[49m\u001b[43m(\u001b[49m\n\u001b[0;32m    704\u001b[0m \u001b[43m    \u001b[49m\u001b[43mconn\u001b[49m\u001b[43m,\u001b[49m\n\u001b[0;32m    705\u001b[0m \u001b[43m    \u001b[49m\u001b[43mmethod\u001b[49m\u001b[43m,\u001b[49m\n\u001b[0;32m    706\u001b[0m \u001b[43m    \u001b[49m\u001b[43murl\u001b[49m\u001b[43m,\u001b[49m\n\u001b[0;32m    707\u001b[0m \u001b[43m    \u001b[49m\u001b[43mtimeout\u001b[49m\u001b[38;5;241;43m=\u001b[39;49m\u001b[43mtimeout_obj\u001b[49m\u001b[43m,\u001b[49m\n\u001b[0;32m    708\u001b[0m \u001b[43m    \u001b[49m\u001b[43mbody\u001b[49m\u001b[38;5;241;43m=\u001b[39;49m\u001b[43mbody\u001b[49m\u001b[43m,\u001b[49m\n\u001b[0;32m    709\u001b[0m \u001b[43m    \u001b[49m\u001b[43mheaders\u001b[49m\u001b[38;5;241;43m=\u001b[39;49m\u001b[43mheaders\u001b[49m\u001b[43m,\u001b[49m\n\u001b[0;32m    710\u001b[0m \u001b[43m    \u001b[49m\u001b[43mchunked\u001b[49m\u001b[38;5;241;43m=\u001b[39;49m\u001b[43mchunked\u001b[49m\u001b[43m,\u001b[49m\n\u001b[0;32m    711\u001b[0m \u001b[43m\u001b[49m\u001b[43m)\u001b[49m\n\u001b[0;32m    713\u001b[0m \u001b[38;5;66;03m# If we're going to release the connection in ``finally:``, then\u001b[39;00m\n\u001b[0;32m    714\u001b[0m \u001b[38;5;66;03m# the response doesn't need to know about the connection. Otherwise\u001b[39;00m\n\u001b[0;32m    715\u001b[0m \u001b[38;5;66;03m# it will also try to release it and we'll have a double-release\u001b[39;00m\n\u001b[0;32m    716\u001b[0m \u001b[38;5;66;03m# mess.\u001b[39;00m\n\u001b[0;32m    717\u001b[0m response_conn \u001b[38;5;241m=\u001b[39m conn \u001b[38;5;28;01mif\u001b[39;00m \u001b[38;5;129;01mnot\u001b[39;00m release_conn \u001b[38;5;28;01melse\u001b[39;00m \u001b[38;5;28;01mNone\u001b[39;00m\n",
      "File \u001b[1;32m~\\anaconda3\\lib\\site-packages\\urllib3\\connectionpool.py:449\u001b[0m, in \u001b[0;36mHTTPConnectionPool._make_request\u001b[1;34m(self, conn, method, url, timeout, chunked, **httplib_request_kw)\u001b[0m\n\u001b[0;32m    444\u001b[0m             httplib_response \u001b[38;5;241m=\u001b[39m conn\u001b[38;5;241m.\u001b[39mgetresponse()\n\u001b[0;32m    445\u001b[0m         \u001b[38;5;28;01mexcept\u001b[39;00m \u001b[38;5;167;01mBaseException\u001b[39;00m \u001b[38;5;28;01mas\u001b[39;00m e:\n\u001b[0;32m    446\u001b[0m             \u001b[38;5;66;03m# Remove the TypeError from the exception chain in\u001b[39;00m\n\u001b[0;32m    447\u001b[0m             \u001b[38;5;66;03m# Python 3 (including for exceptions like SystemExit).\u001b[39;00m\n\u001b[0;32m    448\u001b[0m             \u001b[38;5;66;03m# Otherwise it looks like a bug in the code.\u001b[39;00m\n\u001b[1;32m--> 449\u001b[0m             \u001b[43msix\u001b[49m\u001b[38;5;241;43m.\u001b[39;49m\u001b[43mraise_from\u001b[49m\u001b[43m(\u001b[49m\u001b[43me\u001b[49m\u001b[43m,\u001b[49m\u001b[43m \u001b[49m\u001b[38;5;28;43;01mNone\u001b[39;49;00m\u001b[43m)\u001b[49m\n\u001b[0;32m    450\u001b[0m \u001b[38;5;28;01mexcept\u001b[39;00m (SocketTimeout, BaseSSLError, SocketError) \u001b[38;5;28;01mas\u001b[39;00m e:\n\u001b[0;32m    451\u001b[0m     \u001b[38;5;28mself\u001b[39m\u001b[38;5;241m.\u001b[39m_raise_timeout(err\u001b[38;5;241m=\u001b[39me, url\u001b[38;5;241m=\u001b[39murl, timeout_value\u001b[38;5;241m=\u001b[39mread_timeout)\n",
      "File \u001b[1;32m<string>:3\u001b[0m, in \u001b[0;36mraise_from\u001b[1;34m(value, from_value)\u001b[0m\n",
      "File \u001b[1;32m~\\anaconda3\\lib\\site-packages\\urllib3\\connectionpool.py:444\u001b[0m, in \u001b[0;36mHTTPConnectionPool._make_request\u001b[1;34m(self, conn, method, url, timeout, chunked, **httplib_request_kw)\u001b[0m\n\u001b[0;32m    441\u001b[0m \u001b[38;5;28;01mexcept\u001b[39;00m \u001b[38;5;167;01mTypeError\u001b[39;00m:\n\u001b[0;32m    442\u001b[0m     \u001b[38;5;66;03m# Python 3\u001b[39;00m\n\u001b[0;32m    443\u001b[0m     \u001b[38;5;28;01mtry\u001b[39;00m:\n\u001b[1;32m--> 444\u001b[0m         httplib_response \u001b[38;5;241m=\u001b[39m \u001b[43mconn\u001b[49m\u001b[38;5;241;43m.\u001b[39;49m\u001b[43mgetresponse\u001b[49m\u001b[43m(\u001b[49m\u001b[43m)\u001b[49m\n\u001b[0;32m    445\u001b[0m     \u001b[38;5;28;01mexcept\u001b[39;00m \u001b[38;5;167;01mBaseException\u001b[39;00m \u001b[38;5;28;01mas\u001b[39;00m e:\n\u001b[0;32m    446\u001b[0m         \u001b[38;5;66;03m# Remove the TypeError from the exception chain in\u001b[39;00m\n\u001b[0;32m    447\u001b[0m         \u001b[38;5;66;03m# Python 3 (including for exceptions like SystemExit).\u001b[39;00m\n\u001b[0;32m    448\u001b[0m         \u001b[38;5;66;03m# Otherwise it looks like a bug in the code.\u001b[39;00m\n\u001b[0;32m    449\u001b[0m         six\u001b[38;5;241m.\u001b[39mraise_from(e, \u001b[38;5;28;01mNone\u001b[39;00m)\n",
      "File \u001b[1;32m~\\anaconda3\\lib\\http\\client.py:1374\u001b[0m, in \u001b[0;36mHTTPConnection.getresponse\u001b[1;34m(self)\u001b[0m\n\u001b[0;32m   1372\u001b[0m \u001b[38;5;28;01mtry\u001b[39;00m:\n\u001b[0;32m   1373\u001b[0m     \u001b[38;5;28;01mtry\u001b[39;00m:\n\u001b[1;32m-> 1374\u001b[0m         \u001b[43mresponse\u001b[49m\u001b[38;5;241;43m.\u001b[39;49m\u001b[43mbegin\u001b[49m\u001b[43m(\u001b[49m\u001b[43m)\u001b[49m\n\u001b[0;32m   1375\u001b[0m     \u001b[38;5;28;01mexcept\u001b[39;00m \u001b[38;5;167;01mConnectionError\u001b[39;00m:\n\u001b[0;32m   1376\u001b[0m         \u001b[38;5;28mself\u001b[39m\u001b[38;5;241m.\u001b[39mclose()\n",
      "File \u001b[1;32m~\\anaconda3\\lib\\http\\client.py:318\u001b[0m, in \u001b[0;36mHTTPResponse.begin\u001b[1;34m(self)\u001b[0m\n\u001b[0;32m    316\u001b[0m \u001b[38;5;66;03m# read until we get a non-100 response\u001b[39;00m\n\u001b[0;32m    317\u001b[0m \u001b[38;5;28;01mwhile\u001b[39;00m \u001b[38;5;28;01mTrue\u001b[39;00m:\n\u001b[1;32m--> 318\u001b[0m     version, status, reason \u001b[38;5;241m=\u001b[39m \u001b[38;5;28;43mself\u001b[39;49m\u001b[38;5;241;43m.\u001b[39;49m\u001b[43m_read_status\u001b[49m\u001b[43m(\u001b[49m\u001b[43m)\u001b[49m\n\u001b[0;32m    319\u001b[0m     \u001b[38;5;28;01mif\u001b[39;00m status \u001b[38;5;241m!=\u001b[39m CONTINUE:\n\u001b[0;32m    320\u001b[0m         \u001b[38;5;28;01mbreak\u001b[39;00m\n",
      "File \u001b[1;32m~\\anaconda3\\lib\\http\\client.py:279\u001b[0m, in \u001b[0;36mHTTPResponse._read_status\u001b[1;34m(self)\u001b[0m\n\u001b[0;32m    278\u001b[0m \u001b[38;5;28;01mdef\u001b[39;00m \u001b[38;5;21m_read_status\u001b[39m(\u001b[38;5;28mself\u001b[39m):\n\u001b[1;32m--> 279\u001b[0m     line \u001b[38;5;241m=\u001b[39m \u001b[38;5;28mstr\u001b[39m(\u001b[38;5;28;43mself\u001b[39;49m\u001b[38;5;241;43m.\u001b[39;49m\u001b[43mfp\u001b[49m\u001b[38;5;241;43m.\u001b[39;49m\u001b[43mreadline\u001b[49m\u001b[43m(\u001b[49m\u001b[43m_MAXLINE\u001b[49m\u001b[43m \u001b[49m\u001b[38;5;241;43m+\u001b[39;49m\u001b[43m \u001b[49m\u001b[38;5;241;43m1\u001b[39;49m\u001b[43m)\u001b[49m, \u001b[38;5;124m\"\u001b[39m\u001b[38;5;124miso-8859-1\u001b[39m\u001b[38;5;124m\"\u001b[39m)\n\u001b[0;32m    280\u001b[0m     \u001b[38;5;28;01mif\u001b[39;00m \u001b[38;5;28mlen\u001b[39m(line) \u001b[38;5;241m>\u001b[39m _MAXLINE:\n\u001b[0;32m    281\u001b[0m         \u001b[38;5;28;01mraise\u001b[39;00m LineTooLong(\u001b[38;5;124m\"\u001b[39m\u001b[38;5;124mstatus line\u001b[39m\u001b[38;5;124m\"\u001b[39m)\n",
      "File \u001b[1;32m~\\anaconda3\\lib\\socket.py:705\u001b[0m, in \u001b[0;36mSocketIO.readinto\u001b[1;34m(self, b)\u001b[0m\n\u001b[0;32m    703\u001b[0m \u001b[38;5;28;01mwhile\u001b[39;00m \u001b[38;5;28;01mTrue\u001b[39;00m:\n\u001b[0;32m    704\u001b[0m     \u001b[38;5;28;01mtry\u001b[39;00m:\n\u001b[1;32m--> 705\u001b[0m         \u001b[38;5;28;01mreturn\u001b[39;00m \u001b[38;5;28;43mself\u001b[39;49m\u001b[38;5;241;43m.\u001b[39;49m\u001b[43m_sock\u001b[49m\u001b[38;5;241;43m.\u001b[39;49m\u001b[43mrecv_into\u001b[49m\u001b[43m(\u001b[49m\u001b[43mb\u001b[49m\u001b[43m)\u001b[49m\n\u001b[0;32m    706\u001b[0m     \u001b[38;5;28;01mexcept\u001b[39;00m timeout:\n\u001b[0;32m    707\u001b[0m         \u001b[38;5;28mself\u001b[39m\u001b[38;5;241m.\u001b[39m_timeout_occurred \u001b[38;5;241m=\u001b[39m \u001b[38;5;28;01mTrue\u001b[39;00m\n",
      "\u001b[1;31mKeyboardInterrupt\u001b[0m: "
     ]
    }
   ],
   "source": [
    "# Initialize Chrome webdriver\n",
    "driver = webdriver.Chrome() \n",
    "base_url = \"https://nuforc.org/subndx/?id=all\"\n",
    "driver.get(base_url)\n",
    "\n",
    "# Initialize lists to store headers and data\n",
    "headers = []\n",
    "data = []\n",
    "\n",
    "# Need to Loop through all website pages\n",
    "while True:\n",
    "    # Get the current page HTML\n",
    "    html = driver.page_source\n",
    "    soup = BeautifulSoup(html, 'html.parser')\n",
    "\n",
    "    # Table Data\n",
    "    table = soup.find('table')\n",
    "    if not headers:  # Need this because only need the headers once as they are the same\n",
    "        headers = [th.text.strip() for th in table.find_all('th')]\n",
    "\n",
    "    # Data rows\n",
    "    data_rows = table.find_all('tr')[1:]  # This Skips the header row\n",
    "    for row in data_rows:\n",
    "        data.append([td.text.strip() for td in row.find_all('td')])  # Include all columns\n",
    "\n",
    "    # Need to wait for the next button\n",
    "    next_button = WebDriverWait(driver, 10).until(\n",
    "        EC.presence_of_element_located((By.ID, \"table_1_next\"))\n",
    "    )\n",
    "\n",
    "#     # Check if the next button is disabled\n",
    "    if 'disabled' in next_button.get_attribute('class'):\n",
    "        break  # Break loop if next button is disabled\n",
    "\n",
    "    # Click the next button\n",
    "    next_button.click()\n",
    "\n",
    "# Close the webdriver\n",
    "driver.quit()\n",
    "\n",
    "# Due to the amount of pages on the website, this cell will take some time to run\n",
    "# there will be an 'ElementClickInterceptedException' you can bypass and run the next cell"
   ]
  },
  {
   "cell_type": "code",
   "execution_count": null,
   "id": "9dcfbe78",
   "metadata": {},
   "outputs": [],
   "source": [
    "df = pd.DataFrame(data,columns=headers)\n",
    "df.head()"
   ]
  },
  {
   "cell_type": "code",
   "execution_count": null,
   "id": "7cb43145",
   "metadata": {},
   "outputs": [],
   "source": [
    "df.tail()"
   ]
  },
  {
   "cell_type": "code",
   "execution_count": null,
   "id": "27ace05f",
   "metadata": {},
   "outputs": [],
   "source": [
    "num_rows = len(df)\n",
    "num_rows"
   ]
  },
  {
   "cell_type": "code",
   "execution_count": null,
   "id": "1e252388",
   "metadata": {},
   "outputs": [],
   "source": [
    "# Cleaning- Do not need these columns to answer questions\n",
    "df = pd.DataFrame(data,columns=headers).drop(columns=['Link','Media', 'Posted'])\n",
    "df.head()"
   ]
  },
  {
   "cell_type": "code",
   "execution_count": null,
   "id": "118b4f20",
   "metadata": {},
   "outputs": [],
   "source": [
    "# Will need to change Occured and reported to date time\n",
    "datatypes = df.dtypes \n",
    "datatypes"
   ]
  },
  {
   "cell_type": "code",
   "execution_count": null,
   "id": "0cd648a1",
   "metadata": {},
   "outputs": [],
   "source": [
    "# # Reported column shows as obj vs dt; this is why below; date, '', and Y\n",
    "# Reported = df.get('Reported') \n",
    "# Reported_using_get = Reported.tolist()\n",
    " # print(Reported_using_get)\n",
    "    \n",
    "    \n",
    "\n",
    "Reported = df['Reported'].value_counts()\n",
    "print(Reported)\n"
   ]
  },
  {
   "cell_type": "code",
   "execution_count": null,
   "id": "ca743a85",
   "metadata": {},
   "outputs": [],
   "source": [
    "# Occured Column showing some blank info... \n",
    "# length 192?\n",
    "\n",
    "Occurred = df['Occurred'].value_counts()\n",
    "print(Occurred)"
   ]
  },
  {
   "cell_type": "code",
   "execution_count": null,
   "id": "4b64156a",
   "metadata": {},
   "outputs": [],
   "source": [
    "#List of countries\n",
    "\n",
    "# country_list = df.loc[:, 'Country'].tolist()\n",
    "# # Show the list\n",
    "# country_list\n",
    "\n",
    "country_list = df['Country'].value_counts()\n",
    "print(country_list)"
   ]
  },
  {
   "cell_type": "code",
   "execution_count": null,
   "id": "b27cedf8",
   "metadata": {},
   "outputs": [],
   "source": [
    "#List of States\n",
    "\n",
    "#state_list = df.loc[:, 'State'].tolist()\n",
    "# Show the list\n",
    "#state_list\n",
    "\n",
    "state_list = df['State'].value_counts()\n",
    "print(state_list)"
   ]
  },
  {
   "cell_type": "code",
   "execution_count": null,
   "id": "9ccb270f",
   "metadata": {},
   "outputs": [],
   "source": [
    "# List of cities\n",
    "\n",
    "city_list = df['City'].value_counts()\n",
    "print(city_list)"
   ]
  },
  {
   "cell_type": "code",
   "execution_count": null,
   "id": "a67e8409",
   "metadata": {},
   "outputs": [],
   "source": [
    "# List of Shapes\n",
    "#df.Shape.value_counts()\n",
    "\n",
    "\n",
    "shape_list = df['Shape'].value_counts()\n",
    "print(shape_list)"
   ]
  },
  {
   "cell_type": "code",
   "execution_count": null,
   "id": "58b340db",
   "metadata": {},
   "outputs": [],
   "source": [
    "# Number of rows and columns\n",
    "df.shape"
   ]
  },
  {
   "cell_type": "code",
   "execution_count": null,
   "id": "c1342955",
   "metadata": {},
   "outputs": [],
   "source": [
    "df.info()"
   ]
  },
  {
   "cell_type": "code",
   "execution_count": null,
   "id": "b6ecb057",
   "metadata": {},
   "outputs": [],
   "source": [
    "# Split Occured column to Date and Time\n",
    "\n",
    "df[['Date Occured','Time Occured']]=df.Occurred.str.split(' ',expand=True)\n",
    "df"
   ]
  },
  {
   "cell_type": "code",
   "execution_count": null,
   "id": "b2f58ed9",
   "metadata": {},
   "outputs": [],
   "source": [
    "# Dropped Occured - Cleaned DataFrame\n",
    "\n",
    "clean_df = df[['Date Occured', 'Time Occured', 'City', 'State', 'Country', 'Shape', 'Summary' ]]\n",
    "\n",
    "clean_df.head()"
   ]
  },
  {
   "cell_type": "markdown",
   "id": "cbaee236",
   "metadata": {},
   "source": [
    "# USA Sightings vs Other Countries"
   ]
  },
  {
   "cell_type": "code",
   "execution_count": null,
   "id": "a1665748",
   "metadata": {},
   "outputs": [],
   "source": [
    "# There are 9 countries in the dataset\n",
    "num_countries = clean_df['Country'].nunique()\n",
    "num_countries "
   ]
  },
  {
   "cell_type": "code",
   "execution_count": null,
   "id": "de364e43",
   "metadata": {},
   "outputs": [],
   "source": [
    "# This is the names of all countries (there is a blank field?)\n",
    "countries_count = clean_df['Country'].value_counts()\n",
    "countries_count"
   ]
  },
  {
   "cell_type": "code",
   "execution_count": null,
   "id": "68313f99",
   "metadata": {},
   "outputs": [],
   "source": [
    "# clean_df.groupby('Country').size().sort_values(ascending=False).plot.bar(title='Country Activities');\n",
    "\n",
    "\n",
    "# Group data by country and calculate the size of each group\n",
    "country_activity = clean_df.groupby('Country').size().sort_values(ascending=False)\n",
    "\n",
    "# Bar Plot\n",
    "plt.figure(figsize=(10, 6)) \n",
    "country_activity.plot(kind='bar', color='skyblue')  \n",
    "plt.title('Country Activities')  \n",
    "plt.xlabel('Country')  \n",
    "plt.ylabel('Number of Activities')  \n",
    "plt.xticks(rotation=45, ha='right')  \n",
    "plt.grid(axis='y', linestyle='--', alpha=0.7)  \n",
    "\n",
    "#plt.yticks(range(0, country_activity.max() + 1, 5000))  # Set interval to 50\n",
    "\n",
    "plt.tight_layout()  \n",
    "plt.show()"
   ]
  },
  {
   "cell_type": "code",
   "execution_count": null,
   "id": "d9644041",
   "metadata": {},
   "outputs": [],
   "source": [
    "# clean_df.groupby('Country').size().sort_values(ascending=False).plot.bar(title='Country Activities');\n",
    "\n",
    "\n",
    "# Group data by country and get size of each group\n",
    "country_activity = clean_df.groupby('Country').size().sort_values(ascending=False)\n",
    "country_activity\n",
    "\n"
   ]
  },
  {
   "cell_type": "code",
   "execution_count": null,
   "id": "eb165d0b",
   "metadata": {},
   "outputs": [],
   "source": [
    "# Bar Plot\n",
    "plt.figure(figsize=(10, 6)) \n",
    "country_activity.plot(kind='bar', color='skyblue')  \n",
    "plt.title('Country Activities')  \n",
    "plt.xlabel('Country')  \n",
    "plt.ylabel('Number of Activities')  \n",
    "plt.xticks(rotation=45, ha='right')  \n",
    "plt.grid(axis='y', linestyle='--', alpha=0.7)  \n",
    "plt.tight_layout()  \n",
    "plt.show()"
   ]
  },
  {
   "cell_type": "markdown",
   "id": "8db08ccb",
   "metadata": {},
   "source": [
    "# USA States (Highest and Lowest Sightings)"
   ]
  },
  {
   "cell_type": "code",
   "execution_count": null,
   "id": "ee8fc0d2",
   "metadata": {},
   "outputs": [],
   "source": [
    "usa_data = clean_df[clean_df['Country'] == 'USA']\n",
    "usa_data"
   ]
  },
  {
   "cell_type": "code",
   "execution_count": null,
   "id": "67a80e56",
   "metadata": {},
   "outputs": [],
   "source": [
    "usa_data = clean_df[clean_df['Country'] == 'USA']\n",
    "\n",
    "# Create a new DataFrame for just values under Country-USA\n",
    "usa_df = pd.DataFrame(usa_data)\n",
    "usa_df"
   ]
  },
  {
   "cell_type": "code",
   "execution_count": null,
   "id": "f752de2b",
   "metadata": {},
   "outputs": [],
   "source": [
    "datatypes = df.dtypes \n",
    "datatypes"
   ]
  },
  {
   "cell_type": "code",
   "execution_count": null,
   "id": "c2ce64fb",
   "metadata": {},
   "outputs": [],
   "source": [
    "usa_df.info()"
   ]
  },
  {
   "cell_type": "code",
   "execution_count": null,
   "id": "fbd60ef2",
   "metadata": {},
   "outputs": [],
   "source": [
    "usa_df['Date Occured'] = pd.to_datetime(usa_df['Date Occured'])\n",
    "print(usa_df.dtypes)"
   ]
  },
  {
   "cell_type": "code",
   "execution_count": null,
   "id": "a18c8d92",
   "metadata": {},
   "outputs": [],
   "source": [
    "usa_df['Time Occured'] = pd.to_datetime(usa_df['Time Occured']).dt.time\n",
    "print(usa_df.dtypes)"
   ]
  },
  {
   "cell_type": "code",
   "execution_count": null,
   "id": "fb288818",
   "metadata": {},
   "outputs": [],
   "source": [
    "time_values = usa_df['Time Occured'].value_counts()\n",
    "time_values"
   ]
  },
  {
   "cell_type": "code",
   "execution_count": null,
   "id": "edfff952",
   "metadata": {},
   "outputs": [],
   "source": [
    "state_counts = usa_df['State'].value_counts()\n",
    "state_counts"
   ]
  },
  {
   "cell_type": "markdown",
   "id": "ad28e674",
   "metadata": {},
   "source": [
    "## Top 5"
   ]
  },
  {
   "cell_type": "code",
   "execution_count": null,
   "id": "66c92108",
   "metadata": {},
   "outputs": [],
   "source": [
    "top_5_states = state_counts.head(5)\n",
    "top_5_states"
   ]
  },
  {
   "cell_type": "code",
   "execution_count": null,
   "id": "4c83aaf1",
   "metadata": {},
   "outputs": [],
   "source": [
    "# Top 5 Graph\n",
    "\n",
    "plt.figure(figsize=(8, 6))\n",
    "top_5_states.plot(kind='bar', color='blue', alpha=0.7)\n",
    "plt.title('Number of UFO Sightings - Top 5 States')\n",
    "plt.xlabel('State')\n",
    "plt.ylabel('Number of Sightings')\n",
    "plt.xticks(rotation=45)\n",
    "plt.grid(axis='y', linestyle='--', alpha=0.7)\n",
    "plt.tight_layout()\n",
    "plt.show()"
   ]
  },
  {
   "cell_type": "markdown",
   "id": "8e5afd07",
   "metadata": {},
   "source": [
    "## Top 10"
   ]
  },
  {
   "cell_type": "code",
   "execution_count": null,
   "id": "37fdb4d2",
   "metadata": {},
   "outputs": [],
   "source": [
    "top_10_states = state_counts.head(10)\n",
    "top_10_states"
   ]
  },
  {
   "cell_type": "code",
   "execution_count": null,
   "id": "7a020108",
   "metadata": {},
   "outputs": [],
   "source": [
    "# Top 10 Graph\n",
    "\n",
    "plt.figure(figsize=(8, 6))\n",
    "top_10_states.plot(kind='bar', color='blue', alpha=0.7)\n",
    "plt.title('Number of UFO Sightings - Top 10 States')\n",
    "plt.xlabel('State')\n",
    "plt.ylabel('Number of Sightings')\n",
    "plt.xticks(rotation=45)\n",
    "plt.grid(axis='y', linestyle='--', alpha=0.7)\n",
    "plt.tight_layout()\n",
    "plt.show()"
   ]
  },
  {
   "cell_type": "markdown",
   "id": "e59acd6b",
   "metadata": {},
   "source": [
    "## Bottom 5"
   ]
  },
  {
   "cell_type": "code",
   "execution_count": null,
   "id": "bace0c0e",
   "metadata": {},
   "outputs": [],
   "source": [
    "bottom_5_states = state_counts.tail(5)\n",
    "bottom_5_states"
   ]
  },
  {
   "cell_type": "code",
   "execution_count": null,
   "id": "0808e18f",
   "metadata": {},
   "outputs": [],
   "source": [
    "plt.figure(figsize=(8, 6))\n",
    "bottom_5_states.plot(kind='bar', color='red', alpha=0.7)\n",
    "plt.title('Number of UFO Sightings - Bottom 5 States')\n",
    "plt.xlabel('State')\n",
    "plt.ylabel('Number of Sightings')\n",
    "plt.xticks(rotation=45)\n",
    "plt.grid(axis='y', linestyle='--', alpha=0.7)\n",
    "plt.tight_layout()\n",
    "plt.show()"
   ]
  },
  {
   "cell_type": "markdown",
   "id": "a3383951",
   "metadata": {},
   "source": [
    "## Bottom 10\n"
   ]
  },
  {
   "cell_type": "code",
   "execution_count": null,
   "id": "88f36726",
   "metadata": {},
   "outputs": [],
   "source": [
    "bottom_10_states = state_counts.tail(10)\n",
    "bottom_10_states"
   ]
  },
  {
   "cell_type": "code",
   "execution_count": null,
   "id": "c9539467",
   "metadata": {},
   "outputs": [],
   "source": [
    "plt.figure(figsize=(8, 6))\n",
    "bottom_10_states.plot(kind='bar', color='red', alpha=0.7)\n",
    "plt.title('Number of UFO Sightings - Bottom 10 States')\n",
    "plt.xlabel('State')\n",
    "plt.ylabel('Number of Sightings')\n",
    "plt.xticks(rotation=45)\n",
    "plt.grid(axis='y', linestyle='--', alpha=0.7)\n",
    "plt.tight_layout()\n",
    "plt.show()"
   ]
  },
  {
   "cell_type": "markdown",
   "id": "41fa6e41",
   "metadata": {},
   "source": [
    "##  Combined Top 5 and Bottom 5"
   ]
  },
  {
   "cell_type": "code",
   "execution_count": null,
   "id": "8233f185",
   "metadata": {},
   "outputs": [],
   "source": [
    "# Combined\n",
    "plt.figure(figsize=(10, 6))\n",
    "top_5_states.plot(kind='bar', color='blue', alpha=0.7, label='Top 5 States')\n",
    "bottom_5_states.plot(kind='bar', color='red', alpha=0.7, label='Bottom 5 States')\n",
    "plt.title('Number of UFO Sightings - Top and Bottom 5 States Comparison')\n",
    "plt.xlabel('State')\n",
    "plt.ylabel('Number of Sightings')\n",
    "plt.legend()\n",
    "plt.xticks(rotation=45)\n",
    "plt.grid(axis='y', linestyle='--', alpha=0.7)\n",
    "plt.tight_layout()\n",
    "plt.show()"
   ]
  },
  {
   "cell_type": "markdown",
   "id": "cbfcbf81",
   "metadata": {},
   "source": [
    "##  Combined Top 10 and Bottom 10"
   ]
  },
  {
   "cell_type": "code",
   "execution_count": null,
   "id": "aa8d9f8f",
   "metadata": {},
   "outputs": [],
   "source": [
    "# Combined\n",
    "plt.figure(figsize=(10, 6))\n",
    "top_10_states.plot(kind='bar', color='blue', alpha=0.7, label='Top 10 States')\n",
    "bottom_10_states.plot(kind='bar', color='red', alpha=0.7, label='Bottom 10 States')\n",
    "plt.title('Number of UFO Sightings - Top and Bottom 10 States Comparison')\n",
    "plt.xlabel('State')\n",
    "plt.ylabel('Number of Sightings')\n",
    "plt.legend()\n",
    "plt.xticks(rotation=45)\n",
    "plt.grid(axis='y', linestyle='--', alpha=0.7)\n",
    "plt.tight_layout()\n",
    "plt.show()"
   ]
  },
  {
   "cell_type": "markdown",
   "id": "0a4d3865",
   "metadata": {},
   "source": [
    "# USA- Shapes"
   ]
  },
  {
   "cell_type": "code",
   "execution_count": null,
   "id": "6a8a8f00",
   "metadata": {},
   "outputs": [],
   "source": [
    "shape_counts = usa_df['Shape'].value_counts()\n",
    "shape_counts"
   ]
  },
  {
   "cell_type": "code",
   "execution_count": null,
   "id": "69b15eca",
   "metadata": {},
   "outputs": [],
   "source": [
    "plt.figure(figsize=(8, 6))\n",
    "shape_counts.plot(kind='bar', color='green', alpha=0.7)\n",
    "plt.title('Shape Type Sightings')\n",
    "plt.xlabel('Shape')\n",
    "plt.ylabel('Number of Sightings')\n",
    "plt.xticks(rotation=45)\n",
    "plt.grid(axis='y', linestyle='--', alpha=0.7)\n",
    "plt.tight_layout()\n",
    "plt.show()"
   ]
  },
  {
   "cell_type": "markdown",
   "id": "e89b4a03",
   "metadata": {},
   "source": [
    "# Arizona Reports"
   ]
  },
  {
   "cell_type": "code",
   "execution_count": null,
   "id": "ee547774",
   "metadata": {},
   "outputs": [],
   "source": [
    "az_data = usa_df[usa_df['State'] == 'AZ']\n",
    "az_data"
   ]
  },
  {
   "cell_type": "code",
   "execution_count": null,
   "id": "fba91034",
   "metadata": {},
   "outputs": [],
   "source": [
    "# Plotting\n",
    "plt.figure(figsize=(10, 6))\n",
    "plt.hist(az_data['Date Occured'], bins=30, color='yellow', edgecolor='black')\n",
    "plt.title('Number of UFO Sightings in Arizona (AZ)')\n",
    "plt.xlabel('Date Occurred')\n",
    "plt.ylabel('Frequency')\n",
    "plt.xticks(rotation=45)\n",
    "plt.grid(axis='y', linestyle='--', alpha=0.7)\n",
    "plt.tight_layout()\n",
    "plt.show()"
   ]
  },
  {
   "cell_type": "code",
   "execution_count": null,
   "id": "667687f9",
   "metadata": {},
   "outputs": [],
   "source": [
    "# Only need rows where the 'State' = 'AZ'\n",
    "az_data = usa_df[usa_df['State'] == 'AZ'].copy()  # Make a copy to avoid the warning\n",
    "\n",
    "# Get the year from 'Date Occurred' column and make a new column 'Year' \n",
    "az_data.loc[:, 'Year'] = az_data['Date Occured'].dt.year\n",
    "\n",
    "# Need range of years\n",
    "min_year = az_data['Year'].min()\n",
    "max_year = az_data['Year'].max()\n",
    "\n",
    "# number of sightings for each year\n",
    "year_counts = az_data['Year'].value_counts().sort_index()\n",
    "\n",
    "# Plotting\n",
    "plt.figure(figsize=(10, 6))\n",
    "plt.bar(year_counts.index, year_counts, color='yellow', edgecolor='black')\n",
    "plt.title('Number of UFO Sightings in Arizona (AZ) by Year')\n",
    "plt.xlabel('Year')\n",
    "plt.ylabel('Number of Sightings')\n",
    "\n",
    "# x-ticks = all years\n",
    "plt.xticks(range(min_year, max_year + 1), rotation=45)\n",
    "\n",
    "plt.grid(axis='y', linestyle='--', alpha=0.7)\n",
    "plt.tight_layout()\n",
    "plt.show()\n"
   ]
  },
  {
   "cell_type": "markdown",
   "id": "c5bc63f8",
   "metadata": {},
   "source": [
    "## Cities/Phoenix"
   ]
  },
  {
   "cell_type": "code",
   "execution_count": null,
   "id": "ef36531a",
   "metadata": {},
   "outputs": [],
   "source": [
    "# Count the number of sightings for each city in Arizona\n",
    "city_counts = az_data['City'].value_counts()\n",
    "\n",
    "# Sort the cities based on the number of sightings in descending order\n",
    "sorted_cities = city_counts.sort_values(ascending=False)\n",
    "print(sorted_cities)"
   ]
  },
  {
   "cell_type": "code",
   "execution_count": null,
   "id": "8e50a3cf",
   "metadata": {},
   "outputs": [],
   "source": [
    "# Plotting\n",
    "plt.figure(figsize=(12, 6))\n",
    "sorted_cities.plot(kind='bar', color='orange', edgecolor='black')\n",
    "plt.title('Number of UFO Sightings in Arizona Cities')\n",
    "plt.xlabel('City')\n",
    "plt.ylabel('Number of Sightings')\n",
    "plt.xticks(rotation=45, ha='right') \n",
    "plt.tight_layout()\n",
    "plt.show()"
   ]
  },
  {
   "cell_type": "code",
   "execution_count": null,
   "id": "8203bf23",
   "metadata": {},
   "outputs": [],
   "source": [
    "## Phoenix\n",
    "phx_data = usa_df[usa_df['City'] == 'Phoenix']\n",
    "phx_data"
   ]
  },
  {
   "cell_type": "markdown",
   "id": "503bc508",
   "metadata": {},
   "source": [
    "## Years"
   ]
  },
  {
   "cell_type": "code",
   "execution_count": null,
   "id": "a5cad965",
   "metadata": {},
   "outputs": [],
   "source": [
    "# # Ran all these years and yielded no results\n",
    "# year_2019 = usa_df[usa_df['Date Occured'].dt.year == 2019]\n",
    "# year_2020 = usa_df[usa_df['Date Occured'].dt.year == 2020]\n",
    "# year_2021 = usa_df[usa_df['Date Occured'].dt.year == 2021]\n",
    "# year_2022 = usa_df[usa_df['Date Occured'].dt.year == 2022]\n",
    "# year_2023 = usa_df[usa_df['Date Occured'].dt.year == 2023]\n"
   ]
  },
  {
   "cell_type": "code",
   "execution_count": null,
   "id": "ecd75646",
   "metadata": {},
   "outputs": [],
   "source": [
    "year_2024 = usa_df[usa_df['Date Occured'].dt.year == 2024]\n",
    "year_2024"
   ]
  },
  {
   "cell_type": "code",
   "execution_count": null,
   "id": "07911617",
   "metadata": {},
   "outputs": [],
   "source": [
    "daily_counts_2024 = year_2024.groupby(year_2024['Date Occured'].dt.date).size()\n",
    "daily_counts_2024\n"
   ]
  },
  {
   "cell_type": "code",
   "execution_count": null,
   "id": "2b3ebfc9",
   "metadata": {},
   "outputs": [],
   "source": [
    "# Plotting \n",
    "plt.figure(figsize=(10, 6))\n",
    "daily_counts_2024.plot(kind='line', marker='o', color='skyblue')\n",
    "\n",
    "plt.title('Number of UFO Sightings in 2024')\n",
    "plt.xlabel('Date')\n",
    "plt.ylabel('Number of Sightings')\n",
    "plt.xticks(rotation=45)\n",
    "plt.grid(True)\n",
    "plt.tight_layout()\n",
    "plt.show()"
   ]
  },
  {
   "cell_type": "code",
   "execution_count": null,
   "id": "4583dbdc",
   "metadata": {},
   "outputs": [],
   "source": []
  },
  {
   "cell_type": "code",
   "execution_count": null,
   "id": "c079d060",
   "metadata": {},
   "outputs": [],
   "source": []
  }
 ],
 "metadata": {
  "kernelspec": {
   "display_name": "Python 3 (ipykernel)",
   "language": "python",
   "name": "python3"
  },
  "language_info": {
   "codemirror_mode": {
    "name": "ipython",
    "version": 3
   },
   "file_extension": ".py",
   "mimetype": "text/x-python",
   "name": "python",
   "nbconvert_exporter": "python",
   "pygments_lexer": "ipython3",
   "version": "3.10.9"
  }
 },
 "nbformat": 4,
 "nbformat_minor": 5
}
