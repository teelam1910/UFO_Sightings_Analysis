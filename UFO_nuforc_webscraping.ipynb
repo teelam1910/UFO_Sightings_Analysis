{
 "cells": [
  {
   "cell_type": "code",
   "execution_count": 2,
   "id": "792604d2",
   "metadata": {},
   "outputs": [],
   "source": [
    "import pandas as pd\n",
    "import requests as rs\n",
    "from bs4 import BeautifulSoup as soup"
   ]
  },
  {
   "cell_type": "code",
   "execution_count": 13,
   "id": "47b43137",
   "metadata": {},
   "outputs": [],
   "source": [
    "text = rs.get('https://nuforc.org/subndx/?id=all').text\n",
    "html = soup(text, 'html.parser')\n",
    "\n",
    "headers = [ h.text for h in html.findAll('th')]\n",
    "data = [[ c.text for c in r.findAll('td')] for r in html.find('tbody').findAll('tr')]"
   ]
  },
  {
   "cell_type": "code",
   "execution_count": 46,
   "id": "f0a46d27",
   "metadata": {},
   "outputs": [
    {
     "data": {
      "text/html": [
       "<div>\n",
       "<style scoped>\n",
       "    .dataframe tbody tr th:only-of-type {\n",
       "        vertical-align: middle;\n",
       "    }\n",
       "\n",
       "    .dataframe tbody tr th {\n",
       "        vertical-align: top;\n",
       "    }\n",
       "\n",
       "    .dataframe thead th {\n",
       "        text-align: right;\n",
       "    }\n",
       "</style>\n",
       "<table border=\"1\" class=\"dataframe\">\n",
       "  <thead>\n",
       "    <tr style=\"text-align: right;\">\n",
       "      <th></th>\n",
       "      <th>Occurred</th>\n",
       "      <th>City</th>\n",
       "      <th>State</th>\n",
       "      <th>Country</th>\n",
       "      <th>Shape</th>\n",
       "      <th>Summary</th>\n",
       "      <th>Reported</th>\n",
       "      <th>Posted</th>\n",
       "    </tr>\n",
       "  </thead>\n",
       "  <tbody>\n",
       "    <tr>\n",
       "      <th>0</th>\n",
       "      <td>02/02/1995 23:00</td>\n",
       "      <td>Shady Grove</td>\n",
       "      <td>OR</td>\n",
       "      <td>USA</td>\n",
       "      <td></td>\n",
       "      <td>Man and wife witness very bright, moving light...</td>\n",
       "      <td>02/03/1995</td>\n",
       "      <td>11/02/1999</td>\n",
       "    </tr>\n",
       "    <tr>\n",
       "      <th>1</th>\n",
       "      <td>02/02/1995 19:15</td>\n",
       "      <td>Denmark</td>\n",
       "      <td>WI</td>\n",
       "      <td>USA</td>\n",
       "      <td>Cone</td>\n",
       "      <td>Many witness strange craft streaking in night ...</td>\n",
       "      <td>02/03/1995</td>\n",
       "      <td>11/02/1999</td>\n",
       "    </tr>\n",
       "    <tr>\n",
       "      <th>2</th>\n",
       "      <td>02/02/1995 20:10</td>\n",
       "      <td>Traverse City</td>\n",
       "      <td>MI</td>\n",
       "      <td>USA</td>\n",
       "      <td></td>\n",
       "      <td>4 children report seeing disc above them; bath...</td>\n",
       "      <td>02/03/1995</td>\n",
       "      <td>11/02/1999</td>\n",
       "    </tr>\n",
       "    <tr>\n",
       "      <th>3</th>\n",
       "      <td>12/13/1994 18:55</td>\n",
       "      <td>Murphy</td>\n",
       "      <td>NC</td>\n",
       "      <td>USA</td>\n",
       "      <td></td>\n",
       "      <td>Woman reports seeing strange, lighted obj. wit...</td>\n",
       "      <td>02/03/1995</td>\n",
       "      <td>11/02/1999</td>\n",
       "    </tr>\n",
       "    <tr>\n",
       "      <th>4</th>\n",
       "      <td>02/03/1995 23:25</td>\n",
       "      <td>Fontana</td>\n",
       "      <td>CA</td>\n",
       "      <td>USA</td>\n",
       "      <td></td>\n",
       "      <td>8 adults witness five lights in northern sky f...</td>\n",
       "      <td>03/04/1995</td>\n",
       "      <td>11/02/1999</td>\n",
       "    </tr>\n",
       "  </tbody>\n",
       "</table>\n",
       "</div>"
      ],
      "text/plain": [
       "           Occurred           City State Country Shape  \\\n",
       "0  02/02/1995 23:00    Shady Grove    OR     USA         \n",
       "1  02/02/1995 19:15        Denmark    WI     USA  Cone   \n",
       "2  02/02/1995 20:10  Traverse City    MI     USA         \n",
       "3  12/13/1994 18:55         Murphy    NC     USA         \n",
       "4  02/03/1995 23:25        Fontana    CA     USA         \n",
       "\n",
       "                                             Summary    Reported      Posted  \n",
       "0  Man and wife witness very bright, moving light...  02/03/1995  11/02/1999  \n",
       "1  Many witness strange craft streaking in night ...  02/03/1995  11/02/1999  \n",
       "2  4 children report seeing disc above them; bath...  02/03/1995  11/02/1999  \n",
       "3  Woman reports seeing strange, lighted obj. wit...  02/03/1995  11/02/1999  \n",
       "4  8 adults witness five lights in northern sky f...  03/04/1995  11/02/1999  "
      ]
     },
     "execution_count": 46,
     "metadata": {},
     "output_type": "execute_result"
    }
   ],
   "source": [
    "df = pd.DataFrame(data,columns=headers).drop(columns=['Link','Media'])\n",
    "df.head()"
   ]
  },
  {
   "cell_type": "code",
   "execution_count": 48,
   "id": "d824727c",
   "metadata": {},
   "outputs": [
    {
     "data": {
      "text/plain": [
       "(100, 8)"
      ]
     },
     "execution_count": 48,
     "metadata": {},
     "output_type": "execute_result"
    }
   ],
   "source": [
    "df.shape"
   ]
  },
  {
   "cell_type": "code",
   "execution_count": 51,
   "id": "e49d1178",
   "metadata": {},
   "outputs": [
    {
     "data": {
      "text/plain": [
       "            93\n",
       "Cone         1\n",
       "Unknown      1\n",
       "Disk         1\n",
       "Triangle     1\n",
       "Other        1\n",
       "Fireball     1\n",
       "Chevron      1\n",
       "Name: Shape, dtype: int64"
      ]
     },
     "execution_count": 51,
     "metadata": {},
     "output_type": "execute_result"
    }
   ],
   "source": [
    "df.Shape.value_counts()"
   ]
  },
  {
   "cell_type": "code",
   "execution_count": 60,
   "id": "1561999c",
   "metadata": {},
   "outputs": [],
   "source": [
    "df[['date','time']]=df.Occurred.str.split(' ',expand=True)"
   ]
  },
  {
   "cell_type": "code",
   "execution_count": 66,
   "id": "123b69b9",
   "metadata": {},
   "outputs": [
    {
     "data": {
      "text/html": [
       "<div>\n",
       "<style scoped>\n",
       "    .dataframe tbody tr th:only-of-type {\n",
       "        vertical-align: middle;\n",
       "    }\n",
       "\n",
       "    .dataframe tbody tr th {\n",
       "        vertical-align: top;\n",
       "    }\n",
       "\n",
       "    .dataframe thead th {\n",
       "        text-align: right;\n",
       "    }\n",
       "</style>\n",
       "<table border=\"1\" class=\"dataframe\">\n",
       "  <thead>\n",
       "    <tr style=\"text-align: right;\">\n",
       "      <th></th>\n",
       "      <th>date</th>\n",
       "      <th>time</th>\n",
       "      <th>City</th>\n",
       "      <th>State</th>\n",
       "      <th>Country</th>\n",
       "      <th>Shape</th>\n",
       "      <th>Summary</th>\n",
       "      <th>Reported</th>\n",
       "      <th>Posted</th>\n",
       "    </tr>\n",
       "  </thead>\n",
       "  <tbody>\n",
       "    <tr>\n",
       "      <th>0</th>\n",
       "      <td>02/02/1995</td>\n",
       "      <td>23:00</td>\n",
       "      <td>Shady Grove</td>\n",
       "      <td>OR</td>\n",
       "      <td>USA</td>\n",
       "      <td></td>\n",
       "      <td>Man and wife witness very bright, moving light...</td>\n",
       "      <td>02/03/1995</td>\n",
       "      <td>11/02/1999</td>\n",
       "    </tr>\n",
       "    <tr>\n",
       "      <th>1</th>\n",
       "      <td>02/02/1995</td>\n",
       "      <td>19:15</td>\n",
       "      <td>Denmark</td>\n",
       "      <td>WI</td>\n",
       "      <td>USA</td>\n",
       "      <td>Cone</td>\n",
       "      <td>Many witness strange craft streaking in night ...</td>\n",
       "      <td>02/03/1995</td>\n",
       "      <td>11/02/1999</td>\n",
       "    </tr>\n",
       "    <tr>\n",
       "      <th>2</th>\n",
       "      <td>02/02/1995</td>\n",
       "      <td>20:10</td>\n",
       "      <td>Traverse City</td>\n",
       "      <td>MI</td>\n",
       "      <td>USA</td>\n",
       "      <td></td>\n",
       "      <td>4 children report seeing disc above them; bath...</td>\n",
       "      <td>02/03/1995</td>\n",
       "      <td>11/02/1999</td>\n",
       "    </tr>\n",
       "    <tr>\n",
       "      <th>3</th>\n",
       "      <td>12/13/1994</td>\n",
       "      <td>18:55</td>\n",
       "      <td>Murphy</td>\n",
       "      <td>NC</td>\n",
       "      <td>USA</td>\n",
       "      <td></td>\n",
       "      <td>Woman reports seeing strange, lighted obj. wit...</td>\n",
       "      <td>02/03/1995</td>\n",
       "      <td>11/02/1999</td>\n",
       "    </tr>\n",
       "    <tr>\n",
       "      <th>4</th>\n",
       "      <td>02/03/1995</td>\n",
       "      <td>23:25</td>\n",
       "      <td>Fontana</td>\n",
       "      <td>CA</td>\n",
       "      <td>USA</td>\n",
       "      <td></td>\n",
       "      <td>8 adults witness five lights in northern sky f...</td>\n",
       "      <td>03/04/1995</td>\n",
       "      <td>11/02/1999</td>\n",
       "    </tr>\n",
       "  </tbody>\n",
       "</table>\n",
       "</div>"
      ],
      "text/plain": [
       "         date   time           City State Country Shape  \\\n",
       "0  02/02/1995  23:00    Shady Grove    OR     USA         \n",
       "1  02/02/1995  19:15        Denmark    WI     USA  Cone   \n",
       "2  02/02/1995  20:10  Traverse City    MI     USA         \n",
       "3  12/13/1994  18:55         Murphy    NC     USA         \n",
       "4  02/03/1995  23:25        Fontana    CA     USA         \n",
       "\n",
       "                                             Summary    Reported      Posted  \n",
       "0  Man and wife witness very bright, moving light...  02/03/1995  11/02/1999  \n",
       "1  Many witness strange craft streaking in night ...  02/03/1995  11/02/1999  \n",
       "2  4 children report seeing disc above them; bath...  02/03/1995  11/02/1999  \n",
       "3  Woman reports seeing strange, lighted obj. wit...  02/03/1995  11/02/1999  \n",
       "4  8 adults witness five lights in northern sky f...  03/04/1995  11/02/1999  "
      ]
     },
     "execution_count": 66,
     "metadata": {},
     "output_type": "execute_result"
    }
   ],
   "source": [
    "df1 = df[['date', 'time', 'City', 'State', 'Country', 'Shape', 'Summary', 'Reported',\n",
    "       'Posted', ]]\n",
    "\n",
    "df1.head()"
   ]
  },
  {
   "cell_type": "code",
   "execution_count": 73,
   "id": "b48fe973",
   "metadata": {},
   "outputs": [
    {
     "data": {
      "image/png": "[encoded data removed]",
      "text/plain": [
       "<Figure size 640x480 with 1 Axes>"
      ]
     },
     "metadata": {},
     "output_type": "display_data"
    }
   ],
   "source": [
    "df1.groupby('date').size().sort_values(ascending=False).plot.bar(title='Dates Activities');"
   ]
  },
  {
   "cell_type": "code",
   "execution_count": 75,
   "id": "d49240c8",
   "metadata": {},
   "outputs": [
    {
     "data": {
      "image/png": "[encoded data removed]",
      "text/plain": [
       "<Figure size 640x480 with 1 Axes>"
      ]
     },
     "metadata": {},
     "output_type": "display_data"
    }
   ],
   "source": [
    "df1.groupby('State').size().sort_values(ascending=False).plot.bar(title='State Activities');"
   ]
  },
  {
   "cell_type": "code",
   "execution_count": null,
   "id": "ccfd2d6a",
   "metadata": {},
   "outputs": [],
   "source": []
  }
 ],
 "metadata": {
  "kernelspec": {
   "display_name": "Python 3 (ipykernel)",
   "language": "python",
   "name": "python3"
  },
  "language_info": {
   "codemirror_mode": {
    "name": "ipython",
    "version": 3
   },
   "file_extension": ".py",
   "mimetype": "text/x-python",
   "name": "python",
   "nbconvert_exporter": "python",
   "pygments_lexer": "ipython3",
   "version": "3.10.9"
  }
 },
 "nbformat": 4,
 "nbformat_minor": 5
}
